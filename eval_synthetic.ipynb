{
 "cells": [
  {
   "cell_type": "code",
   "execution_count": 1,
   "outputs": [],
   "source": [
    "# Copyright (c) 2022, Gonzalo Ferrer, Dmitrii Iarosh, Anastasiia Kornilova\n",
    "#\n",
    "# Licensed under the Apache License, Version 2.0 (the \"License\");\n",
    "# you may not use this file except in compliance with the License.\n",
    "# You may obtain a copy of the License at\n",
    "#\n",
    "# http://www.apache.org/licenses/LICENSE-2.0\n",
    "#\n",
    "# Unless required by applicable law or agreed to in writing, software\n",
    "# distributed under the License is distributed on an \"AS IS\" BASIS,\n",
    "# WITHOUT WARRANTIES OR CONDITIONS OF ANY KIND, either express or implied.\n",
    "# See the License for the specific language governing permissions and\n",
    "# limitations under the License."
   ],
   "metadata": {
    "collapsed": false,
    "pycharm": {
     "name": "#%%\n"
    }
   }
  },
  {
   "cell_type": "code",
   "execution_count": 7,
   "outputs": [],
   "source": [
    "import mrob\n",
    "import numpy as np\n",
    "import os\n",
    "import pandas as pd\n",
    "import open3d as o3d\n",
    "import pickle\n",
    "\n",
    "from matplotlib import pyplot as plt\n",
    "from tqdm import tqdm"
   ],
   "metadata": {
    "collapsed": false,
    "pycharm": {
     "name": "#%%\n"
    }
   }
  },
  {
   "cell_type": "code",
   "execution_count": 8,
   "outputs": [],
   "source": [
    "from plane_backends.solver_factory import create_solver_by_name\n",
    "\n",
    "from metrics.ape import ape\n",
    "from metrics.rpe import rpe\n",
    "\n",
    "from perturbation.perturbation import Perturbation, generate_random_pose_shift"
   ],
   "metadata": {
    "collapsed": false,
    "pycharm": {
     "name": "#%%\n"
    }
   }
  },
  {
   "cell_type": "code",
   "execution_count": 9,
   "outputs": [],
   "source": [
    "def save_generated_data(generated_data, perturbed_poses, folder_name):\n",
    "    os.mkdir(folder_name)\n",
    "    for i, _ in enumerate(perturbed_poses):\n",
    "        points = np.vstack(generated_data.get_point_cloud(i))\n",
    "        pcd = o3d.geometry.PointCloud()\n",
    "        pcd.points = o3d.utility.Vector3dVector(points)\n",
    "        o3d.io.write_point_cloud(os.path.join(folder_name, f'{i}.pcd'), pcd)\n",
    "\n",
    "    gt_poses = [T.T() for T in generated_data.get_trajectory()]\n",
    "    with open(os.path.join(folder_name, 'gt_poses.pkl'), 'wb') as f:\n",
    "        pickle.dump(gt_poses, f)\n",
    "\n",
    "    with open(os.path.join(folder_name, 'pert_poses.pkl'), 'wb') as f:\n",
    "        pickle.dump(perturbed_poses, f)"
   ],
   "metadata": {
    "collapsed": false,
    "pycharm": {
     "name": "#%%\n"
    }
   }
  },
  {
   "cell_type": "code",
   "execution_count": 10,
   "outputs": [],
   "source": [
    "def generated_data_to_observations(generated_data, poses_count):\n",
    "    observations = []\n",
    "    for i in range(poses_count):\n",
    "        observation = {}\n",
    "        points = np.vstack(generated_data.get_point_cloud(i))\n",
    "        labels = generated_data.get_point_plane_ids(i)\n",
    "        for label in np.unique(labels):\n",
    "            point_indices = np.where(labels == label)[0]\n",
    "            observation[label] = points[point_indices]\n",
    "\n",
    "        observations.append(observation)\n",
    "    return observations"
   ],
   "metadata": {
    "collapsed": false,
    "pycharm": {
     "name": "#%%\n"
    }
   }
  },
  {
   "cell_type": "code",
   "execution_count": 23,
   "outputs": [
    {
     "name": "stderr",
     "output_type": "stream",
     "text": [
      "100%|██████████| 1/1 [00:52<00:00, 52.47s/it]\n",
      "100%|██████████| 1/1 [02:13<00:00, 133.57s/it]\n",
      "100%|██████████| 1/1 [04:06<00:00, 246.04s/it]\n",
      "100%|██████████| 1/1 [05:55<00:00, 355.86s/it]\n",
      "100%|██████████| 1/1 [06:51<00:00, 411.78s/it]\n"
     ]
    }
   ],
   "source": [
    "planes_count_list = [5] # [5, 10, 25, 50, 100]\n",
    "poses_count_list = [5, 10, 25, 50, 75]\n",
    "point_noise_list = [0.005] # [0.005, 0.01, 0.02, 0.04, 0.08]\n",
    "points_count_list = [5] # [5, 10, 25, 50, 100, 200]\n",
    "perturbations = [\n",
    "    Perturbation(rotation_shift=1, translation_shift=0.01),\n",
    "    Perturbation(rotation_shift=5, translation_shift=0.05),\n",
    "    Perturbation(rotation_shift=10, translation_shift=0.1),\n",
    "    Perturbation(rotation_shift=15, translation_shift=0.15),\n",
    "    Perturbation(rotation_shift=20, translation_shift=0.2),\n",
    "]\n",
    "bias_noise = 0.01\n",
    "T0 = mrob.geometry.SE3(np.eye(4))\n",
    "solvers = [\n",
    "    'bareg',\n",
    "    'pi-factor',\n",
    "    'ef-centered',\n",
    "]\n",
    "df_stat = pd.DataFrame()\n",
    "\n",
    "SAMPLES_COUNT = 100\n",
    "\n",
    "ind = 0\n",
    "for perturbation in perturbations:\n",
    "    for points_count in points_count_list:\n",
    "        for point_noise in point_noise_list:\n",
    "            for planes_count in tqdm(planes_count_list):\n",
    "                for poses_count in poses_count_list:\n",
    "                    for sample_index in range(SAMPLES_COUNT):\n",
    "                        # Generate synthetic data\n",
    "                        total_points_count = planes_count * points_count\n",
    "                        generated_data = mrob.registration.CreatePoints(\n",
    "                            total_points_count,\n",
    "                            planes_count,\n",
    "                            poses_count,\n",
    "                            point_noise,\n",
    "                            bias_noise,\n",
    "                            T0\n",
    "                        )\n",
    "                        name = '_'.join(\n",
    "                            [\n",
    "                                str(points_count),\n",
    "                                str(planes_count),\n",
    "                                str(poses_count),\n",
    "                                str(point_noise),\n",
    "                                str(sample_index),\n",
    "                                str(perturbation.rotation_shift),\n",
    "                                str(perturbation.translation_shift)\n",
    "                            ]\n",
    "                        )\n",
    "                        observations = generated_data_to_observations(generated_data, poses_count)\n",
    "                        gt_poses = [T.T() for T in generated_data.get_trajectory()]\n",
    "\n",
    "                        # Apply perturbations\n",
    "                        perturbed_poses = []\n",
    "                        for i, gt_pose in enumerate(gt_poses):\n",
    "                            perturbed_poses.append(\n",
    "                                gt_pose @ generate_random_pose_shift(\n",
    "                                    perturbation.rotation_shift / 180 * np.pi,\n",
    "                                    perturbation.translation_shift\n",
    "                                )\n",
    "                            )\n",
    "\n",
    "                        # save_generated_data(generated_data, perturbed_poses, name)\n",
    "\n",
    "                        # Estimate trajectory with each backend\n",
    "                        initial_trajectory = perturbed_poses\n",
    "                        for solver_name in solvers:\n",
    "                            solver = create_solver_by_name(solver_name, iterations_count=300)\n",
    "                            refined_poses, iterations_used_count, optimization_time = solver.solve(\n",
    "                                observations,\n",
    "                                initial_trajectory\n",
    "                            )\n",
    "                            ape_translation, ape_rotation = ape(gt_poses[:poses_count], refined_poses[:poses_count])\n",
    "                            rpe_translation, rpe_rotation = rpe(gt_poses[:poses_count], refined_poses[:poses_count])\n",
    "                            stat = {\n",
    "                                'sample': sample_index,\n",
    "                                'pose_perturbation': '{}'.format(str(perturbation)),\n",
    "                                'point_noise': point_noise,\n",
    "                                'planes_count': planes_count,\n",
    "                                'poses_count': poses_count,\n",
    "                                'points_count': points_count,\n",
    "                                'time': optimization_time,\n",
    "                                'solver': solver_name,\n",
    "                                'iterations': iterations_used_count,\n",
    "                                'ape_rotation': ape_rotation,\n",
    "                                'rpe_rotation': rpe_rotation,\n",
    "                                'ape_translation': ape_translation,\n",
    "                                'rpe_translation': rpe_translation\n",
    "                            }\n",
    "\n",
    "                            df_stat = pd.concat([df_stat, pd.DataFrame(stat, index=[ind])])\n",
    "                            ind += 1"
   ],
   "metadata": {
    "collapsed": false,
    "pycharm": {
     "name": "#%%\n"
    }
   }
  },
  {
   "cell_type": "code",
   "execution_count": 24,
   "outputs": [
    {
     "name": "stdout",
     "output_type": "stream",
     "text": [
      "[5, 10, 25, 50, 75]\n",
      "[0.07795214 0.10587338 0.12453548 0.13431448 0.15047763]\n",
      "[5, 10, 25, 50, 75]\n",
      "[0.01248174 0.01384102 0.01419566 0.0154653  0.01837304]\n",
      "[5, 10, 25, 50, 75]\n",
      "[0.10144651 0.11953621 0.15279705 0.1662112  0.17449846]\n"
     ]
    },
    {
     "name": "stderr",
     "output_type": "stream",
     "text": [
      "C:\\Users\\dimaj\\AppData\\Local\\Temp\\ipykernel_8268\\4065899866.py:2: UserWarning: Boolean Series key will be reindexed to match DataFrame index.\n",
      "  median_stat = df_stat[df_stat['solver'] == solver_name][df_stat['planes_count'] == 5].groupby(\n",
      "C:\\Users\\dimaj\\AppData\\Local\\Temp\\ipykernel_8268\\4065899866.py:2: FutureWarning: The default value of numeric_only in DataFrameGroupBy.median is deprecated. In a future version, numeric_only will default to False. Either specify numeric_only or select only columns which should be valid for the function.\n",
      "  median_stat = df_stat[df_stat['solver'] == solver_name][df_stat['planes_count'] == 5].groupby(\n",
      "C:\\Users\\dimaj\\AppData\\Local\\Temp\\ipykernel_8268\\4065899866.py:2: UserWarning: Boolean Series key will be reindexed to match DataFrame index.\n",
      "  median_stat = df_stat[df_stat['solver'] == solver_name][df_stat['planes_count'] == 5].groupby(\n",
      "C:\\Users\\dimaj\\AppData\\Local\\Temp\\ipykernel_8268\\4065899866.py:2: FutureWarning: The default value of numeric_only in DataFrameGroupBy.median is deprecated. In a future version, numeric_only will default to False. Either specify numeric_only or select only columns which should be valid for the function.\n",
      "  median_stat = df_stat[df_stat['solver'] == solver_name][df_stat['planes_count'] == 5].groupby(\n",
      "C:\\Users\\dimaj\\AppData\\Local\\Temp\\ipykernel_8268\\4065899866.py:2: UserWarning: Boolean Series key will be reindexed to match DataFrame index.\n",
      "  median_stat = df_stat[df_stat['solver'] == solver_name][df_stat['planes_count'] == 5].groupby(\n",
      "C:\\Users\\dimaj\\AppData\\Local\\Temp\\ipykernel_8268\\4065899866.py:2: FutureWarning: The default value of numeric_only in DataFrameGroupBy.median is deprecated. In a future version, numeric_only will default to False. Either specify numeric_only or select only columns which should be valid for the function.\n",
      "  median_stat = df_stat[df_stat['solver'] == solver_name][df_stat['planes_count'] == 5].groupby(\n"
     ]
    },
    {
     "data": {
      "text/plain": "[]"
     },
     "execution_count": 24,
     "metadata": {},
     "output_type": "execute_result"
    },
    {
     "data": {
      "text/plain": "<Figure size 640x480 with 1 Axes>",
      "image/png": "[encoded data removed]"
     },
     "metadata": {},
     "output_type": "display_data"
    }
   ],
   "source": [
    "for solver_name in solvers:\n",
    "    median_stat = df_stat[df_stat['solver'] == solver_name][df_stat['planes_count'] == 5].groupby(\n",
    "        ['planes_count', 'poses_count', 'points_count']\n",
    "    ).median()\n",
    "    indices = list(median_stat.index)\n",
    "    print(poses_count_list)\n",
    "    print(median_stat['ape_translation'].values)\n",
    "    plt.plot(poses_count_list, median_stat['ape_translation'].values)\n",
    "\n",
    "plt.legend(['BAREG', 'Pi-factor', 'EF-Centered'])\n",
    "plt.semilogy()"
   ],
   "metadata": {
    "collapsed": false,
    "pycharm": {
     "name": "#%%\n"
    }
   }
  }
 ],
 "metadata": {
  "kernelspec": {
   "display_name": "Python 3 (ipykernel)",
   "language": "python",
   "name": "python3"
  },
  "language_info": {
   "codemirror_mode": {
    "name": "ipython",
    "version": 3
   },
   "file_extension": ".py",
   "mimetype": "text/x-python",
   "name": "python",
   "nbconvert_exporter": "python",
   "pygments_lexer": "ipython3",
   "version": "3.9.13"
  }
 },
 "nbformat": 4,
 "nbformat_minor": 5
}